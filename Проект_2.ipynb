{
  "cells": [
    {
      "cell_type": "markdown",
      "metadata": {
        "id": "view-in-github",
        "colab_type": "text"
      },
      "source": [
        "<a href=\"https://colab.research.google.com/github/aisancesg/Tinkoff_course_ADI/blob/main/%D0%9F%D1%80%D0%BE%D0%B5%D0%BA%D1%82_2.ipynb\" target=\"_parent\"><img src=\"https://colab.research.google.com/assets/colab-badge.svg\" alt=\"Open In Colab\"/></a>"
      ]
    },
    {
      "cell_type": "markdown",
      "id": "96ac1922",
      "metadata": {
        "id": "96ac1922"
      },
      "source": [
        "# Шаблон для проекта по A/B - тестам."
      ]
    },
    {
      "cell_type": "markdown",
      "id": "e01e5ec9",
      "metadata": {
        "id": "e01e5ec9"
      },
      "source": [
        "### `chat_id ` из Телеграма:"
      ]
    },
    {
      "cell_type": "code",
      "source": [
        "1407630156"
      ],
      "metadata": {
        "id": "Of7L1OK6jEKT"
      },
      "id": "Of7L1OK6jEKT",
      "execution_count": null,
      "outputs": []
    },
    {
      "cell_type": "markdown",
      "id": "1fb036f5",
      "metadata": {
        "id": "1fb036f5"
      },
      "source": [
        "------------------"
      ]
    },
    {
      "cell_type": "markdown",
      "id": "d8c6f14f",
      "metadata": {
        "id": "d8c6f14f"
      },
      "source": [
        "##  <ins>Задание 1.</ins>"
      ]
    },
    {
      "cell_type": "markdown",
      "source": [
        "### 0. Запосить у бота в Телеграме условие командой `/get_project1_desc`."
      ],
      "metadata": {
        "id": "cMi1ZWvej6zB"
      },
      "id": "cMi1ZWvej6zB"
    },
    {
      "cell_type": "markdown",
      "id": "0dd4c840",
      "metadata": {
        "id": "0dd4c840"
      },
      "source": [
        "### 1. Необходимо выбрать метрику и привести аргументацию."
      ]
    },
    {
      "cell_type": "markdown",
      "source": [
        "Во время выбора целевой метрики я думала между двумя вариантами: конверсией из звонков в продажи и конверсией из дозвонов в продажи. Остановилась на первом, так как мы заранее не можем предугадать, дозвонимся ли мы до конкретного человека или нет"
      ],
      "metadata": {
        "id": "6xGR1j02AC6-"
      },
      "id": "6xGR1j02AC6-"
    },
    {
      "cell_type": "markdown",
      "id": "b644cd0a",
      "metadata": {
        "id": "b644cd0a"
      },
      "source": [
        "### 2. Альтернатива в критерии."
      ]
    },
    {
      "cell_type": "markdown",
      "source": [
        "Уменьшение цены продукта повысит частоту продаж"
      ],
      "metadata": {
        "id": "DCSpylVRAoIN"
      },
      "id": "DCSpylVRAoIN"
    },
    {
      "cell_type": "markdown",
      "id": "727aefc4",
      "metadata": {
        "id": "727aefc4"
      },
      "source": [
        "### 3.1. Каков размер выборки? Привести аргументацию и написать как получилось то или иное число."
      ]
    },
    {
      "cell_type": "markdown",
      "source": [
        "Размер выборки N=11423, так как по формуле получили (см. ниже) 11422.292207313456, значит 11422 не хватит, берем верхнюю целую часть."
      ],
      "metadata": {
        "id": "tQFthR8v5s9l"
      },
      "id": "tQFthR8v5s9l"
    },
    {
      "cell_type": "code",
      "source": [
        "import numpy as np\n",
        "import pandas as pd\n",
        "import plotly.graph_objects as go\n",
        "import warnings\n",
        "from scipy.stats import norm\n",
        "warnings.filterwarnings(\"ignore\")\n",
        "\n",
        "df = pd.read_csv(\"hist_telesales.csv\")\n",
        "alpha=0.05\n",
        "beta=0.2\n",
        "z_1_alpha=norm.ppf(1-alpha)\n",
        "z_beta=norm.ppf(beta)\n",
        "p=df['Флаг продажи'].sum()/len(df.index )\n",
        "mde=p*0.05\n",
        "k=0.5\n",
        "N=p*(1-p)*((z_1_alpha-z_beta)**2)/(k*(mde**2))\n",
        "print(\"N=\",N)"
      ],
      "metadata": {
        "id": "fYijOurfjLNp",
        "colab": {
          "base_uri": "https://localhost:8080/"
        },
        "outputId": "950b2f41-bc99-4dbe-b8eb-e5d81e71e8b0"
      },
      "id": "fYijOurfjLNp",
      "execution_count": null,
      "outputs": [
        {
          "output_type": "stream",
          "name": "stdout",
          "text": [
            "N= 11422.292207313456\n"
          ]
        }
      ]
    },
    {
      "cell_type": "markdown",
      "id": "8df8ee73",
      "metadata": {
        "id": "8df8ee73"
      },
      "source": [
        "### 3.2. Необходимо запросить у бота в Телеграме выборку полученного размера командой `/get_project1_sample {размер выборки}` и вписать <ins>код выборки</ins>:"
      ]
    },
    {
      "cell_type": "code",
      "source": [
        "22952"
      ],
      "metadata": {
        "id": "9vCrM3wcjM0H"
      },
      "id": "9vCrM3wcjM0H",
      "execution_count": null,
      "outputs": []
    },
    {
      "cell_type": "markdown",
      "id": "22e2d9b0",
      "metadata": {
        "id": "22e2d9b0"
      },
      "source": [
        "### 4. Принятие решения. Расписать подробно с аргументами."
      ]
    },
    {
      "cell_type": "code",
      "source": [
        "df_control= pd.read_csv(\"Контроль.csv\")\n",
        "df_test= pd.read_csv(\"Тест.csv\")\n",
        "conversion_control=df_control['Флаг продажи'].sum()/len(df_control.index )\n",
        "conversion_test=df_test['Флаг продажи'].sum()/len(df_test.index )\n",
        "print(conversion_control)\n",
        "print(conversion_test)"
      ],
      "metadata": {
        "id": "C9NO-_o3jON1",
        "colab": {
          "base_uri": "https://localhost:8080/"
        },
        "outputId": "7a5d2d71-5295-4f18-c62e-edf91d1f9df1"
      },
      "id": "C9NO-_o3jON1",
      "execution_count": null,
      "outputs": [
        {
          "output_type": "stream",
          "name": "stdout",
          "text": [
            "0.3014969797776416\n",
            "0.3021973211940821\n"
          ]
        }
      ]
    },
    {
      "cell_type": "markdown",
      "source": [
        "Мы получили лишь незначительное увеличение конверсии из звонков в продажи. Считаю, что оно не стоит того, чтоб уменьшать цену продукта"
      ],
      "metadata": {
        "id": "cGxh0BxdLBKe"
      },
      "id": "cGxh0BxdLBKe"
    },
    {
      "cell_type": "markdown",
      "id": "7ea196b1",
      "metadata": {
        "id": "7ea196b1"
      },
      "source": [
        "##  <ins>Задание 2.</ins>"
      ]
    },
    {
      "cell_type": "markdown",
      "source": [
        "### 0. Запосить у бота в Телеграме условие командой `/get_project2_desc`."
      ],
      "metadata": {
        "id": "M0mI4jfTkCk6"
      },
      "id": "M0mI4jfTkCk6"
    },
    {
      "cell_type": "markdown",
      "id": "e4691844",
      "metadata": {
        "id": "e4691844"
      },
      "source": [
        "### 1. Необходимо выбрать метрику и привести аргументацию."
      ]
    },
    {
      "cell_type": "markdown",
      "source": [],
      "metadata": {
        "id": "lKbYOPaLZaCy"
      },
      "id": "lKbYOPaLZaCy"
    },
    {
      "cell_type": "markdown",
      "source": [
        "PV КК + PV услуги. Не среднее арифметическое, т.к. k=1/2"
      ],
      "metadata": {
        "id": "Lg1HNg8aZ-oC"
      },
      "id": "Lg1HNg8aZ-oC"
    },
    {
      "cell_type": "markdown",
      "id": "e36b594c",
      "metadata": {
        "id": "e36b594c"
      },
      "source": [
        "### 2. Альтернатива в критерии."
      ]
    },
    {
      "cell_type": "code",
      "source": [
        "увеличение PV КК + PV услуги"
      ],
      "metadata": {
        "id": "pBmniztEjRQP"
      },
      "id": "pBmniztEjRQP",
      "execution_count": null,
      "outputs": []
    },
    {
      "cell_type": "markdown",
      "id": "692b97f3",
      "metadata": {
        "id": "692b97f3"
      },
      "source": [
        "### 3. Нужно выбрать параметр(-ы), влияющий(-ие) на целевую метрику. Привести аргументацию."
      ]
    },
    {
      "cell_type": "code",
      "source": [
        "import numpy as np\n",
        "import pandas as pd\n",
        "import plotly.graph_objects as go\n",
        "import warnings\n",
        "from statsmodels.stats.weightstats import ztest\n",
        "from scipy.stats import norm\n",
        "warnings.filterwarnings(\"ignore\")\n",
        "\n",
        "df = pd.read_csv(\"hist_credit_card.csv\")\n",
        "cols = ['PV КК', 'PV услуги']\n",
        "df['sum_PV'] = df[cols]. sum (axis= 1)\n",
        "print(df['Возраст'].corr(df['sum_PV']))\n",
        "print(df['Доход клиента'].corr(df['sum_PV']))"
      ],
      "metadata": {
        "id": "4bYv6W9ljUEg",
        "colab": {
          "base_uri": "https://localhost:8080/"
        },
        "outputId": "e7366b16-9e0d-4ca2-d3d1-064825cbfadc"
      },
      "id": "4bYv6W9ljUEg",
      "execution_count": null,
      "outputs": [
        {
          "output_type": "stream",
          "name": "stdout",
          "text": [
            "0.0038033501733373306\n",
            "-0.002692101653560915\n"
          ]
        }
      ]
    },
    {
      "cell_type": "markdown",
      "source": [
        "Исходя из найденных значений корреляций, выбираем возраст"
      ],
      "metadata": {
        "id": "7Qnq5Za2eoP7"
      },
      "id": "7Qnq5Za2eoP7"
    },
    {
      "cell_type": "markdown",
      "id": "9b40ecbb",
      "metadata": {
        "id": "9b40ecbb"
      },
      "source": [
        "### 4.1. Каков размер выборки? Привести аргументацию и написать как получилось то или иное число."
      ]
    },
    {
      "cell_type": "code",
      "source": [
        "arr=np.zeros(len(df.index))\n",
        "for i in range(len(df.index)):\n",
        "  arr[i]=df.sum_PV[i]\n",
        "\n",
        "dif=(arr-arr.mean())**2\n",
        "disp=dif.mean()\n",
        "#print(disp)\n",
        "alpha=0.05\n",
        "beta=0.15\n",
        "z_1_alpha=norm.ppf(1-alpha)\n",
        "z_beta=norm.ppf(beta)\n",
        "mde=disp*0.03\n",
        "k=0.5\n",
        "N=disp*disp*((z_1_alpha-z_beta)**2)/(k*(mde**2))\n",
        "print(\"N=\",N)"
      ],
      "metadata": {
        "id": "tk7WBLvmjSnM",
        "colab": {
          "base_uri": "https://localhost:8080/"
        },
        "outputId": "244542a5-ea23-4c85-d689-f64b9c071644"
      },
      "id": "tk7WBLvmjSnM",
      "execution_count": null,
      "outputs": [
        {
          "output_type": "stream",
          "name": "stdout",
          "text": [
            "N= 15976.222365684305\n"
          ]
        }
      ]
    },
    {
      "cell_type": "markdown",
      "source": [
        "Получили из кода выше N=15977"
      ],
      "metadata": {
        "id": "2Emt2i1SfwaC"
      },
      "id": "2Emt2i1SfwaC"
    },
    {
      "cell_type": "markdown",
      "id": "b13ea8ee",
      "metadata": {
        "id": "b13ea8ee"
      },
      "source": [
        "### 4.2. Необходимо запросить у бота в Телеграме выборку полученного размера командой `/get_project2_sample {размер выборки}` и вписать <ins>код выборки</ins>:"
      ]
    },
    {
      "cell_type": "code",
      "source": [
        "69809"
      ],
      "metadata": {
        "id": "F5c-oqIBjVJS"
      },
      "id": "F5c-oqIBjVJS",
      "execution_count": null,
      "outputs": []
    },
    {
      "cell_type": "markdown",
      "id": "f6945c8f",
      "metadata": {
        "id": "f6945c8f"
      },
      "source": [
        "### 5. Проверка на однородность, применение критерия. Принятие решения. Расписать подробно с аргументами."
      ]
    },
    {
      "cell_type": "code",
      "source": [],
      "metadata": {
        "id": "LVlEnA4DjWp5"
      },
      "id": "LVlEnA4DjWp5",
      "execution_count": null,
      "outputs": []
    }
  ],
  "metadata": {
    "kernelspec": {
      "display_name": "Python 3 (ipykernel)",
      "language": "python",
      "name": "python3"
    },
    "language_info": {
      "codemirror_mode": {
        "name": "ipython",
        "version": 3
      },
      "file_extension": ".py",
      "mimetype": "text/x-python",
      "name": "python",
      "nbconvert_exporter": "python",
      "pygments_lexer": "ipython3",
      "version": "3.9.7"
    },
    "colab": {
      "provenance": [],
      "include_colab_link": true
    }
  },
  "nbformat": 4,
  "nbformat_minor": 5
}